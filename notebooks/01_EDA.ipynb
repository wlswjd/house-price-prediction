import pandas as pd
import matplotlib.pyplot as plt
import seaborn as sns

# 데이터 로드
train = pd.read_csv('../data/raw/train.csv')
test = pd.read_csv('../data/raw/test.csv')

# 기본 정보
print(train.shape)
print(train.info())
print(train.describe())

# 결측치 시각화
sns.heatmap(train.isnull(), cbar=False)
plt.title("Train Missing Value Heatmap")
plt.show()

# 타겟 분포 확인
sns.histplot(train['거래금액(만원)'], bins=50, kde=True)
plt.title("Target Distribution")
plt.show()

# 범주형 변수 시각화
categorical_cols = ['시군구', '아파트명', '도로명']
for col in categorical_cols:
    print(train[col].value_counts().head(10))
