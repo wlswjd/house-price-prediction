
import pandas as pd
from sklearn.preprocessing import OneHotEncoder
from sklearn.cluster import KMeans

# 데이터 로드
train = pd.read_csv('../data/raw/train.csv')
test = pd.read_csv('../data/raw/test.csv')
bus = pd.read_csv('../data/raw/bus_feature.csv')
subway = pd.read_csv('../data/raw/subway_feature.csv')

# 외부 데이터 병합
train = train.merge(bus, on='ID', how='left')
train = train.merge(subway, on='ID', how='left')
test = test.merge(bus, on='ID', how='left')
test = test.merge(subway, on='ID', how='left')

# 필요 없는 컬럼 제거
drop_cols = ['단지소개기존clob', '고용보험관리번호', '도로명', '중개사소재지']
train.drop(columns=drop_cols, inplace=True, errors='ignore')
test.drop(columns=drop_cols, inplace=True, errors='ignore')

# 범주형 변수 One-Hot Encoding
categorical = ['시군구', '아파트명', '거래유형']
ohe = OneHotEncoder(sparse_output=False, handle_unknown='ignore')
ohe.fit(pd.concat([train[categorical], test[categorical]]))

X_train_ohe = pd.DataFrame(ohe.transform(train[categorical]), columns=ohe.get_feature_names_out(categorical))
X_test_ohe = pd.DataFrame(ohe.transform(test[categorical]), columns=ohe.get_feature_names_out(categorical))

# 위치 기반 KMeans 클러스터링
coords = train[['경도', '위도']]
kmeans = KMeans(n_clusters=20, random_state=42)
train['location_cluster'] = kmeans.fit_predict(coords)
test['location_cluster'] = kmeans.predict(test[['경도', '위도']])

# 저장
train.to_csv('../data/processed/train_processed.csv', index=False)
test.to_csv('../data/processed/test_processed.csv', index=False)
