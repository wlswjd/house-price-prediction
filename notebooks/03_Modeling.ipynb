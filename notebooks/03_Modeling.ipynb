import pandas as pd
from sklearn.ensemble import RandomForestRegressor
from sklearn.model_selection import cross_val_score
from sklearn.metrics import mean_squared_error
import numpy as np

train = pd.read_csv('../data/processed/train_processed.csv')
X = train.drop(columns=['거래금액(만원)', 'ID'], errors='ignore')
y = train['거래금액(만원)']

# 모델 학습
model = RandomForestRegressor(n_estimators=100, random_state=42)
scores = cross_val_score(model, X, y, scoring='neg_root_mean_squared_error', cv=5)
print("Cross-Validated RMSE Scores:", -scores)
print("Mean RMSE:", -scores.mean())

# 전체 학습 후 모델 저장
model.fit(X, y)
import joblib
joblib.dump(model, '../models/random_forest.pkl')
