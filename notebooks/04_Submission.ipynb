import pandas as pd
import joblib

model = joblib.load('../models/random_forest.pkl')
test = pd.read_csv('../data/processed/test_processed.csv')

X_test = test.drop(columns=['ID'], errors='ignore')
preds = model.predict(X_test)

submission = pd.read_csv('../data/raw/sample_submission.csv')
submission['거래금액(만원)'] = preds
submission.to_csv('../outputs/submission.csv', index=False)
